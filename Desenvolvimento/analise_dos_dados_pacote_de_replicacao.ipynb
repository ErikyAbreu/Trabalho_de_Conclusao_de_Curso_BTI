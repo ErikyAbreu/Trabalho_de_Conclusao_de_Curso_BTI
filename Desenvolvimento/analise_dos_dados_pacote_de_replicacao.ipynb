{
  "nbformat": 4,
  "nbformat_minor": 0,
  "metadata": {
    "colab": {
      "provenance": [],
      "toc_visible": true,
      "collapsed_sections": [
        "7Z25c68yvf7k",
        "npPxLNMlWuJ_",
        "GOosDc8uXgyu",
        "XbDheaY7Shga",
        "O6O4mny1j3TL",
        "7yutMfyv162t"
      ]
    },
    "kernelspec": {
      "name": "python3",
      "display_name": "Python 3"
    },
    "language_info": {
      "name": "python"
    }
  },
  "cells": [
    {
      "cell_type": "markdown",
      "source": [
        "# ANÁLISE DOS DADOS\n"
      ],
      "metadata": {
        "id": "Mm4bVCv_zAKa"
      }
    },
    {
      "cell_type": "markdown",
      "source": [
        "## IMPORTAÇÕES"
      ],
      "metadata": {
        "id": "7Z25c68yvf7k"
      }
    },
    {
      "cell_type": "code",
      "source": [
        "# REALIZANDO A CONEXÃO COM O DRIVE\n",
        "from google.colab import drive\n",
        "drive.mount('/content/drive')"
      ],
      "metadata": {
        "id": "M6SYnyRWCij1"
      },
      "execution_count": null,
      "outputs": []
    },
    {
      "cell_type": "code",
      "execution_count": null,
      "metadata": {
        "id": "HETc6JAN_-CM"
      },
      "outputs": [],
      "source": [
        "# IMPORTANDO AS BIBLIOTECAS NECESSÁRIAS\n",
        "from IPython.display import display\n",
        "import pandas as pd\n",
        "import matplotlib.pyplot as plt\n",
        "import numpy as np"
      ]
    },
    {
      "cell_type": "code",
      "source": [
        "# IMPORTANDO A BASE DE DADOS UTILIZADA\n",
        "tabela_alunos = pd.read_csv(\"/content/drive/MyDrive/CAMINHO/NOME_DO_ARQUIVO.csv\")\n",
        "display(tabela_alunos)\n",
        "quant_dados = 00 #INFORME A QUANTIDADE DE DADOS OBTIDOS"
      ],
      "metadata": {
        "id": "QGfyA0oqC63r"
      },
      "execution_count": null,
      "outputs": []
    },
    {
      "cell_type": "markdown",
      "source": [
        "## PRIMEIRA UNIDADE"
      ],
      "metadata": {
        "id": "1K5qXRpg3Ndh"
      }
    },
    {
      "cell_type": "markdown",
      "source": [
        "### DADOS COMPLETOS"
      ],
      "metadata": {
        "id": "npPxLNMlWuJ_"
      }
    },
    {
      "cell_type": "code",
      "source": [
        "# CONSTRUINDO UMA NOVA TABELA COM OS DADOS NECESSÁRIOS\n",
        "tabela_unidade_i = tabela_alunos.iloc[0:quant_dados, 0:5]\n",
        "tabela_unidade_i.drop(columns=[\"Unnamed: 2\"], inplace=True)\n",
        "tabela_unidade_i.drop(index=[0], inplace=True)\n",
        "tabela_unidade_i.columns = [\"Discente\", \"Formulários Respondidos\", \"Aula Assistida\", \"Notas\"]\n",
        "tabela_exibicao = pd.concat([tabela_unidade_i.head(), tabela_unidade_i.tail()])\n",
        "display(tabela_exibicao)\n",
        "tabela_unidade_i.info()"
      ],
      "metadata": {
        "id": "V3rdUhgaDS1j"
      },
      "execution_count": null,
      "outputs": []
    },
    {
      "cell_type": "code",
      "source": [
        "# REALIZANDO O TRATAMENTO DOS DADOS\n",
        "tabela_unidade_i.dropna(subset=\"Notas\", inplace=True)\n",
        "tabela_unidade_i['Formulários Respondidos'] = tabela_unidade_i['Formulários Respondidos'].astype(int)\n",
        "tabela_unidade_i['Aula Assistida'] = tabela_unidade_i['Aula Assistida'].astype(int)\n",
        "tabela_unidade_i['Notas'] = tabela_unidade_i['Notas'].str.replace(',', '.')\n",
        "tabela_unidade_i['Notas'] = tabela_unidade_i['Notas'].astype(float)\n",
        "tabela_exibicao = pd.concat([tabela_unidade_i.head(), tabela_unidade_i.tail()])\n",
        "display(tabela_exibicao)\n",
        "tabela_unidade_i.info()"
      ],
      "metadata": {
        "id": "BPCztcL9G12c"
      },
      "execution_count": null,
      "outputs": []
    },
    {
      "cell_type": "code",
      "source": [
        "# GERANDO UMA TABELA COM OS DADOS ACOPLADOS POR QUANTIDADE DE FORMULÁRIOS RESPONDIDOS\n",
        "tabela_unidade_i_acoplada = tabela_unidade_i.groupby(\"Formulários Respondidos\").agg(\n",
        "    Quantidade_Alunos=(\"Notas\", \"count\"),\n",
        "    Media_Notas=(\"Notas\", \"mean\")\n",
        ").reset_index()\n",
        "tabela_unidade_i_acoplada.columns = [\"Formulários Respondidos\", \"Quantidade de Alunos\", \"Média das Notas\"]\n",
        "display(tabela_unidade_i_acoplada)"
      ],
      "metadata": {
        "id": "GlFR4XmW7bx-"
      },
      "execution_count": null,
      "outputs": []
    },
    {
      "cell_type": "code",
      "source": [
        "# GRÁFICO DE COLUNAS COM OS DADOS ACOPLADOS\n",
        "tabela_unidade_i_acoplada.plot(kind=\"bar\", x=\"Formulários Respondidos\", y=\"Média das Notas\", title=\"Média das notas por quantidade de formulários respondidos\", color=\"skyblue\", rot=0)\n",
        "plt.ylabel(\"Média das Notas\")\n",
        "\n",
        "for i, valor in enumerate(tabela_unidade_i_acoplada[\"Média das Notas\"]):\n",
        "    plt.text(i, valor + 0.05, f\"{valor:.2f}\", ha=\"center\", va=\"bottom\", fontsize=10, color=\"black\")\n",
        "plt.tight_layout()\n",
        "plt.show()"
      ],
      "metadata": {
        "id": "EJulMmgwzuzu"
      },
      "execution_count": null,
      "outputs": []
    },
    {
      "cell_type": "code",
      "source": [
        "# GRÁFICO DE DISPERSÃO\n",
        "tabela_unidade_i.plot.scatter(x=\"Formulários Respondidos\", y=\"Notas\", title=\"Dispersão entre Quantidade de Formulários Respondidos e Nota\", color=\"blue\")\n",
        "plt.grid(True)\n",
        "plt.show()"
      ],
      "metadata": {
        "id": "nidLbIotNsfE"
      },
      "execution_count": null,
      "outputs": []
    },
    {
      "cell_type": "code",
      "source": [
        "# CÁLCULO DO R^2\n",
        "\n",
        "X = tabela_unidade_i[\"Formulários Respondidos\"]\n",
        "Y = tabela_unidade_i[\"Notas\"]\n",
        "media_notas = np.mean(Y)\n",
        "coeficiente = np.polyfit(X, Y, 1)\n",
        "coeficiente_angular, coeficiente_linear = coeficiente[0], coeficiente[1]\n",
        "Y_previsto = coeficiente_angular * X + coeficiente_linear\n",
        "\n",
        "sq_total = np.sum((Y - media_notas) ** 2)\n",
        "sq_residual = np.sum((Y - Y_previsto) ** 2)\n",
        "r_quadrado = 1 - (sq_residual / sq_total)\n",
        "\n",
        "plt.scatter(X, Y, color=\"blue\", label=\"Dados observados\")\n",
        "plt.plot(X, Y_previsto, color=\"purple\", label=\"Linha de regressão\")\n",
        "plt.title(\"Gráfico de Dispersão com R²\")\n",
        "plt.xlabel(\"Formulários Respondidos\")\n",
        "plt.ylabel(\"Notas\")\n",
        "\n",
        "plt.text(1, 4.5, f\"$R^2 = {r_quadrado:.4f}$\", fontsize=12, color=\"black\")\n",
        "plt.legend()\n",
        "plt.show()"
      ],
      "metadata": {
        "id": "4JxrlCUmcx3V"
      },
      "execution_count": null,
      "outputs": []
    },
    {
      "cell_type": "markdown",
      "source": [
        "### SEGREGAÇÃO DOS DADOS POR PARTICIPAÇÃO NA AULA DE MATEMÁTICA BÁSICA"
      ],
      "metadata": {
        "id": "GOosDc8uXgyu"
      }
    },
    {
      "cell_type": "code",
      "source": [
        "# SEGREGAÇÃO DOS DADOS - NÃO PARTICIPOU DA AULA DE MATEMÁTICA BÁSICA\n",
        "\n",
        "tabela_unidade_i_aula_falso = tabela_unidade_i.loc[tabela_unidade_i[\"Aula Assistida\"] == 0].copy()\n",
        "tabela_exibicao = pd.concat([tabela_unidade_i_aula_falso.head(), tabela_unidade_i_aula_falso.tail()])\n",
        "display(tabela_exibicao)\n",
        "tabela_unidade_i_aula_falso.info()"
      ],
      "metadata": {
        "id": "pZN_AifDXkxm"
      },
      "execution_count": null,
      "outputs": []
    },
    {
      "cell_type": "code",
      "source": [
        "# GERANDO UMA TABELA COM OS DADOS ACOPLADOS POR QUANTIDADE DE FORMULÁRIOS RESPONDIDOS\n",
        "\n",
        "tabela_unidade_i_falso_acoplada = tabela_unidade_i_aula_falso.groupby(\"Formulários Respondidos\").agg(\n",
        "    Quantidade_Alunos=(\"Notas\", \"count\"),\n",
        "    Media_Notas=(\"Notas\", \"mean\")\n",
        ").reset_index()\n",
        "tabela_unidade_i_falso_acoplada.columns = [\"Formulários Respondidos\", \"Quantidade de Alunos\", \"Média das Notas\"]\n",
        "\n",
        "valores_esperados = [0, 1, 2, 3, 4, 5]\n",
        "for valor in valores_esperados:\n",
        "    if valor not in tabela_unidade_i_falso_acoplada[\"Formulários Respondidos\"].values:\n",
        "        nova_linha = {\"Formulários Respondidos\": valor, \"Quantidade de Alunos\": 0, \"Média das Notas\": 0.0}\n",
        "        tabela_unidade_i_falso_acoplada = pd.concat([pd.DataFrame([nova_linha]), tabela_unidade_i_falso_acoplada], ignore_index=True)\n",
        "\n",
        "tabela_unidade_i_falso_acoplada = tabela_unidade_i_falso_acoplada.sort_values(by=\"Formulários Respondidos\").reset_index(drop=True) #ORDEM CRESCENTE DE FORMULÁRIOS RESPONDIDOS\n",
        "\n",
        "display(tabela_unidade_i_falso_acoplada)"
      ],
      "metadata": {
        "id": "GhUU2b6qaMFH"
      },
      "execution_count": null,
      "outputs": []
    },
    {
      "cell_type": "code",
      "source": [
        "# SEGREGAÇÃO DOS DADOS - PARTICIPOU DA AULA DE MATEMÁTICA BÁSICA\n",
        "\n",
        "tabela_unidade_i_aula_verdadeiro = tabela_unidade_i.loc[tabela_unidade_i[\"Aula Assistida\"] == 1].copy()\n",
        "tabela_exibicao = pd.concat([tabela_unidade_i_aula_verdadeiro.head(), tabela_unidade_i_aula_verdadeiro.tail()])\n",
        "display(tabela_exibicao)\n",
        "tabela_unidade_i_aula_verdadeiro.info()"
      ],
      "metadata": {
        "id": "amomN5xnXkl-"
      },
      "execution_count": null,
      "outputs": []
    },
    {
      "cell_type": "code",
      "source": [
        "# GERANDO UMA TABELA COM OS DADOS ACOPLADOS POR QUANTIDADE DE FORMULÁRIOS RESPONDIDOS\n",
        "\n",
        "tabela_unidade_i_verdadeiro_acoplada = tabela_unidade_i_aula_verdadeiro.groupby(\"Formulários Respondidos\").agg(\n",
        "    Quantidade_Alunos=(\"Notas\", \"count\"),\n",
        "    Media_Notas=(\"Notas\", \"mean\")\n",
        ").reset_index()\n",
        "tabela_unidade_i_verdadeiro_acoplada.columns = [\"Formulários Respondidos\", \"Quantidade de Alunos\", \"Média das Notas\"]\n",
        "\n",
        "display(tabela_unidade_i_verdadeiro_acoplada)"
      ],
      "metadata": {
        "id": "Co69m_MGay9g"
      },
      "execution_count": null,
      "outputs": []
    },
    {
      "cell_type": "code",
      "source": [
        "# GERANDO UM GRÁFICO DE BARRAS PARA COMPARAÇÃO DAS MÉDIAS\n",
        "\n",
        "imagem, eixox = plt.subplots(figsize=(8, 6))\n",
        "\n",
        "largura = 0.35\n",
        "x = range(len(tabela_unidade_i_verdadeiro_acoplada[\"Formulários Respondidos\"]))\n",
        "eixox.bar([pos - largura / 2 for pos in x], tabela_unidade_i_falso_acoplada[\"Média das Notas\"], width=largura, label=\"Não assistiu a aula de matemática básica\", color=\"blue\")\n",
        "eixox.bar([pos + largura / 2 for pos in x], tabela_unidade_i_verdadeiro_acoplada[\"Média das Notas\"], width=largura, label=\"Assistiu a aula de matemática básica\", color=\"orange\")\n",
        "\n",
        "eixox.set_xlabel(\"Formulários Respondidos\")\n",
        "eixox.set_ylabel(\"Média das Notas\")\n",
        "eixox.set_title(\"Comparação das Médias entre os Grupos\")\n",
        "eixox.set_xticks(x)\n",
        "eixox.set_xticklabels(tabela_unidade_i_falso_acoplada[\"Formulários Respondidos\"])\n",
        "eixox.legend()\n",
        "\n",
        "plt.tight_layout()\n",
        "plt.show()\n"
      ],
      "metadata": {
        "id": "AOTt8JG0eJrw"
      },
      "execution_count": null,
      "outputs": []
    },
    {
      "cell_type": "code",
      "source": [
        "# GERANDO UM GRÁFICO DE DISPERSÃO PARA COMPARAÇÃO DAS NOTAS\n",
        "\n",
        "plt.scatter(tabela_unidade_i_aula_falso[\"Formulários Respondidos\"], tabela_unidade_i_aula_falso[\"Notas\"], color=\"blue\", label=\"Não assistiu a aula de matemática básica\")\n",
        "plt.scatter(tabela_unidade_i_aula_verdadeiro[\"Formulários Respondidos\"], tabela_unidade_i_aula_verdadeiro[\"Notas\"], color=\"orange\", label=\"Assistiu a aula de matemática básica\")\n",
        "\n",
        "plt.title(\"Comparação de Grupos - Gráfico de Dispersão\")\n",
        "plt.xlabel(\"Formulários Respondidos\")\n",
        "plt.ylabel(\"Notas\")\n",
        "plt.legend()\n",
        "plt.grid(True)\n",
        "\n",
        "plt.show()"
      ],
      "metadata": {
        "id": "bUoRNTxRQ0As"
      },
      "execution_count": null,
      "outputs": []
    },
    {
      "cell_type": "markdown",
      "source": [
        "## SEGUNDA UNIDADE"
      ],
      "metadata": {
        "id": "XbDheaY7Shga"
      }
    },
    {
      "cell_type": "markdown",
      "source": [
        "### DADOS COMPLETOS"
      ],
      "metadata": {
        "id": "C7h0rLgDShga"
      }
    },
    {
      "cell_type": "code",
      "source": [
        "# CONSTRUINDO UMA NOVA TABELA COM OS DADOS NECESSÁRIOS\n",
        "tabela_unidade_ii = tabela_alunos.iloc[0:quant_dados, [0, 5, 6, 7, 8]]\n",
        "tabela_unidade_ii.drop(columns=[\"Unnamed: 6\"], inplace=True)\n",
        "tabela_unidade_ii.drop(index=[0], inplace=True)\n",
        "tabela_unidade_ii.columns = [\"Discente\", \"Formulários Respondidos\", \"Aula Assistida\", \"Notas\"]\n",
        "tabela_exibicao = pd.concat([tabela_unidade_ii.head(), tabela_unidade_ii.tail()])\n",
        "display(tabela_exibicao)\n",
        "tabela_unidade_ii.info()"
      ],
      "metadata": {
        "id": "xCZL49F5Shga"
      },
      "execution_count": null,
      "outputs": []
    },
    {
      "cell_type": "code",
      "source": [
        "# REALIZANDO O TRATAMENTO DOS DADOS\n",
        "tabela_unidade_ii.dropna(subset=\"Notas\", inplace=True)\n",
        "tabela_unidade_ii['Formulários Respondidos'] = tabela_unidade_ii['Formulários Respondidos'].astype(int)\n",
        "tabela_unidade_ii['Aula Assistida'] = tabela_unidade_ii['Aula Assistida'].astype(int)\n",
        "tabela_unidade_ii['Notas'] = tabela_unidade_ii['Notas'].str.replace(',', '.')\n",
        "tabela_unidade_ii['Notas'] = tabela_unidade_ii['Notas'].astype(float)\n",
        "tabela_exibicao = pd.concat([tabela_unidade_ii.head(), tabela_unidade_ii.tail()])\n",
        "display(tabela_exibicao)\n",
        "tabela_unidade_ii.info()"
      ],
      "metadata": {
        "id": "1JlWnIBkShgb"
      },
      "execution_count": null,
      "outputs": []
    },
    {
      "cell_type": "code",
      "source": [
        "# GERANDO UMA TABELA COM OS DADOS ACOPLADOS POR QUANTIDADE DE FORMULÁRIOS RESPONDIDOS\n",
        "tabela_unidade_ii_acoplada = tabela_unidade_ii.groupby(\"Formulários Respondidos\").agg(\n",
        "    Quantidade_Alunos=(\"Notas\", \"count\"),\n",
        "    Media_Notas=(\"Notas\", \"mean\")\n",
        ").reset_index()\n",
        "tabela_unidade_ii_acoplada.columns = [\"Formulários Respondidos\", \"Quantidade de Alunos\", \"Média das Notas\"]\n",
        "display(tabela_unidade_ii_acoplada)"
      ],
      "metadata": {
        "id": "hsLhMTT6Shgb"
      },
      "execution_count": null,
      "outputs": []
    },
    {
      "cell_type": "code",
      "source": [
        "# GRÁFICO DE COLUNAS COM OS DADOS ACOPLADOS\n",
        "tabela_unidade_ii_acoplada.plot(kind=\"bar\", x=\"Formulários Respondidos\", y=\"Média das Notas\", title=\"Média das notas por quantidade de formulários respondidos\", color=\"skyblue\", rot=0)\n",
        "plt.ylabel(\"Média das Notas\")\n",
        "\n",
        "for i, valor in enumerate(tabela_unidade_ii_acoplada[\"Média das Notas\"]):\n",
        "    plt.text(i, valor + 0.05, f\"{valor:.2f}\", ha=\"center\", va=\"bottom\", fontsize=10, color=\"black\")\n",
        "plt.tight_layout()\n",
        "plt.show()"
      ],
      "metadata": {
        "id": "SlP1hp7mShgb"
      },
      "execution_count": null,
      "outputs": []
    },
    {
      "cell_type": "code",
      "source": [
        "# GRÁFICO DE DISPERSÃO\n",
        "tabela_unidade_ii.plot.scatter(x=\"Formulários Respondidos\", y=\"Notas\", title=\"Dispersão entre Quantidade de Formulários Respondidos e Nota\", color=\"blue\")\n",
        "plt.grid(True)\n",
        "plt.show()"
      ],
      "metadata": {
        "id": "KCr4sTDvShgb"
      },
      "execution_count": null,
      "outputs": []
    },
    {
      "cell_type": "code",
      "source": [
        "# CÁLCULO DO R^2\n",
        "X = tabela_unidade_ii[\"Formulários Respondidos\"]\n",
        "Y = tabela_unidade_ii[\"Notas\"]\n",
        "media_notas = np.mean(Y)\n",
        "coeficiente = np.polyfit(X, Y, 1)\n",
        "coeficiente_angular, coeficiente_linear = coeficiente[0], coeficiente[1]\n",
        "Y_previsto = coeficiente_angular * X + coeficiente_linear\n",
        "\n",
        "sq_total = np.sum((Y - media_notas) ** 2)\n",
        "sq_residual = np.sum((Y - Y_previsto) ** 2)\n",
        "r_quadrado = 1 - (sq_residual / sq_total)\n",
        "\n",
        "plt.scatter(X, Y, color=\"blue\", label=\"Dados observados\")\n",
        "plt.plot(X, Y_previsto, color=\"purple\", label=\"Linha de regressão\")\n",
        "plt.title(\"Gráfico de Dispersão com R²\")\n",
        "plt.xlabel(\"Formulários Respondidos\")\n",
        "plt.ylabel(\"Notas\")\n",
        "\n",
        "plt.text(1, 4.5, f\"$R^2 = {r_quadrado:.4f}$\", fontsize=12, color=\"black\")\n",
        "plt.legend()\n",
        "plt.show()"
      ],
      "metadata": {
        "id": "5Mfy57gkShgb"
      },
      "execution_count": null,
      "outputs": []
    },
    {
      "cell_type": "markdown",
      "source": [
        "### SEGREGAÇÃO DOS DADOS POR PARTICIPAÇÃO NA AULA DE MATEMÁTICA BÁSICA"
      ],
      "metadata": {
        "id": "UrMzxdsXShgb"
      }
    },
    {
      "cell_type": "code",
      "source": [
        "tabela_unidade_ii_aula_falso = tabela_unidade_ii.loc[tabela_unidade_ii[\"Aula Assistida\"] == 0].copy()\n",
        "display(tabela_unidade_ii_aula_falso)\n",
        "tabela_unidade_ii_aula_falso.info()"
      ],
      "metadata": {
        "id": "lBgi_P2jShgb"
      },
      "execution_count": null,
      "outputs": []
    },
    {
      "cell_type": "code",
      "source": [
        "# GERANDO UMA TABELA COM OS DADOS ACOPLADOS POR QUANTIDADE DE FORMULÁRIOS RESPONDIDOS\n",
        "tabela_unidade_ii_falso_acoplada = tabela_unidade_ii_aula_falso.groupby(\"Formulários Respondidos\").agg(\n",
        "    Quantidade_Alunos=(\"Notas\", \"count\"),\n",
        "    Media_Notas=(\"Notas\", \"mean\")\n",
        ").reset_index()\n",
        "tabela_unidade_ii_falso_acoplada.columns = [\"Formulários Respondidos\", \"Quantidade de Alunos\", \"Média das Notas\"]\n",
        "\n",
        "valores_esperados = [0, 1, 2, 3]\n",
        "for valor in valores_esperados:\n",
        "    if valor not in tabela_unidade_ii_falso_acoplada[\"Formulários Respondidos\"].values:\n",
        "        nova_linha = {\"Formulários Respondidos\": valor, \"Quantidade de Alunos\": 0, \"Média das Notas\": 0.0}\n",
        "        tabela_unidade_ii_falso_acoplada = pd.concat([pd.DataFrame([nova_linha]), tabela_unidade_ii_falso_acoplada], ignore_index=True)\n",
        "\n",
        "tabela_unidade_ii_falso_acoplada = tabela_unidade_ii_falso_acoplada.sort_values(by=\"Formulários Respondidos\").reset_index(drop=True) #ORDEM CRESCENTE DE FORMULÁRIOS RESPONDIDOS\n",
        "\n",
        "display(tabela_unidade_ii_falso_acoplada)"
      ],
      "metadata": {
        "id": "STdyDcAPShgc"
      },
      "execution_count": null,
      "outputs": []
    },
    {
      "cell_type": "code",
      "source": [
        "tabela_unidade_ii_aula_verdadeiro = tabela_unidade_ii.loc[tabela_unidade_ii[\"Aula Assistida\"] == 1].copy()\n",
        "display(tabela_unidade_ii_aula_verdadeiro)\n",
        "tabela_unidade_ii_aula_verdadeiro.info()"
      ],
      "metadata": {
        "id": "gI8XR2DzShgc"
      },
      "execution_count": null,
      "outputs": []
    },
    {
      "cell_type": "code",
      "source": [
        "# GERANDO UMA TABELA COM OS DADOS ACOPLADOS POR QUANTIDADE DE FORMULÁRIOS RESPONDIDOS\n",
        "\n",
        "tabela_unidade_ii_verdadeiro_acoplada = tabela_unidade_ii_aula_verdadeiro.groupby(\"Formulários Respondidos\").agg(\n",
        "    Quantidade_Alunos=(\"Notas\", \"count\"),\n",
        "    Media_Notas=(\"Notas\", \"mean\")\n",
        ").reset_index()\n",
        "tabela_unidade_ii_verdadeiro_acoplada.columns = [\"Formulários Respondidos\", \"Quantidade de Alunos\", \"Média das Notas\"]\n",
        "\n",
        "valores_esperados = [0, 1, 2, 3]\n",
        "for valor in valores_esperados:\n",
        "    if valor not in tabela_unidade_ii_verdadeiro_acoplada[\"Formulários Respondidos\"].values:\n",
        "        nova_linha = {\"Formulários Respondidos\": valor, \"Quantidade de Alunos\": 0, \"Média das Notas\": 0.0}\n",
        "        tabela_unidade_ii_verdadeiro_acoplada = pd.concat([pd.DataFrame([nova_linha]), tabela_unidade_ii_verdadeiro_acoplada], ignore_index=True)\n",
        "\n",
        "tabela_unidade_ii_verdadeiro_acoplada = tabela_unidade_ii_verdadeiro_acoplada.sort_values(by=\"Formulários Respondidos\").reset_index(drop=True) #ORDEM CRESCENTE DE FORMULÁRIOS RESPONDIDOS\n",
        "\n",
        "display(tabela_unidade_ii_verdadeiro_acoplada)\n"
      ],
      "metadata": {
        "id": "7Q4VZBFtShgc"
      },
      "execution_count": null,
      "outputs": []
    },
    {
      "cell_type": "code",
      "source": [
        "imagem, eixox = plt.subplots(figsize=(8, 6))\n",
        "\n",
        "largura = 0.35\n",
        "x = range(len(tabela_unidade_ii_falso_acoplada[\"Formulários Respondidos\"]))\n",
        "\n",
        "eixox.bar([pos - largura / 2 for pos in x], tabela_unidade_ii_falso_acoplada[\"Média das Notas\"], width=largura, label=\"Não assistiu a aula de matemática básica\", color=\"blue\")\n",
        "eixox.bar([pos + largura / 2 for pos in x], tabela_unidade_ii_verdadeiro_acoplada[\"Média das Notas\"], width=largura, label=\"Assistiu a aula de matemática básica\", color=\"orange\")\n",
        "\n",
        "eixox.set_xlabel(\"Formulários Respondidos\")\n",
        "eixox.set_ylabel(\"Média das Notas\")\n",
        "eixox.set_title(\"Comparação das Médias entre os Grupos\")\n",
        "eixox.set_xticks(x)\n",
        "eixox.set_xticklabels(tabela_unidade_ii_falso_acoplada[\"Formulários Respondidos\"])\n",
        "eixox.legend()\n",
        "\n",
        "plt.tight_layout()\n",
        "plt.show()\n"
      ],
      "metadata": {
        "id": "8_k52RREShgc"
      },
      "execution_count": null,
      "outputs": []
    },
    {
      "cell_type": "code",
      "source": [
        "plt.scatter(tabela_unidade_ii_aula_falso[\"Formulários Respondidos\"], tabela_unidade_ii_aula_falso[\"Notas\"], color=\"blue\", label=\"Não assistiu a aula de matemática básica\")\n",
        "plt.scatter(tabela_unidade_ii_aula_verdadeiro[\"Formulários Respondidos\"], tabela_unidade_ii_aula_verdadeiro[\"Notas\"], color=\"orange\", label=\"Assistiu a aula de matemática básica\")\n",
        "\n",
        "plt.title(\"Comparação de Grupos - Gráfico de Dispersão\")\n",
        "plt.xlabel(\"Formulários Respondidos\")\n",
        "plt.ylabel(\"Notas\")\n",
        "plt.legend()\n",
        "plt.grid(True)\n",
        "\n",
        "plt.show()"
      ],
      "metadata": {
        "id": "JjaAiZHWShgc"
      },
      "execution_count": null,
      "outputs": []
    },
    {
      "cell_type": "markdown",
      "source": [
        "## TERCEIRA UNIDADE"
      ],
      "metadata": {
        "id": "O6O4mny1j3TL"
      }
    },
    {
      "cell_type": "markdown",
      "source": [
        "### DADOS COMPLETOS"
      ],
      "metadata": {
        "id": "YJSKPiTYj3TM"
      }
    },
    {
      "cell_type": "code",
      "source": [
        "# CONSTRUINDO UMA NOVA TABELA COM OS DADOS NECESSÁRIOS\n",
        "tabela_unidade_iii = tabela_alunos.iloc[0:quant_dados, [0, 9, 10, 11, 12]]\n",
        "tabela_unidade_iii.drop(columns=[\"Unnamed: 10\"], inplace=True)\n",
        "tabela_unidade_iii.drop(index=[0], inplace=True)\n",
        "tabela_unidade_iii.columns = [\"Discente\", \"Formulários Respondidos\", \"Aula Assistida\", \"Notas\"]\n",
        "tabela_exibicao = pd.concat([tabela_unidade_iii.head(), tabela_unidade_iii.tail()])\n",
        "display(tabela_exibicao)\n",
        "tabela_unidade_iii.info()"
      ],
      "metadata": {
        "id": "1MqnK_YFj3TM"
      },
      "execution_count": null,
      "outputs": []
    },
    {
      "cell_type": "code",
      "source": [
        "# REALIZANDO O TRATAMENTO DOS DADOS\n",
        "tabela_unidade_iii.dropna(subset=\"Notas\", inplace=True)\n",
        "tabela_unidade_iii['Formulários Respondidos'] = tabela_unidade_iii['Formulários Respondidos'].astype(int)\n",
        "tabela_unidade_iii['Aula Assistida'] = tabela_unidade_iii['Aula Assistida'].astype(int)\n",
        "tabela_unidade_iii['Notas'] = tabela_unidade_iii['Notas'].str.replace(',', '.')\n",
        "tabela_unidade_iii['Notas'] = tabela_unidade_iii['Notas'].astype(float)\n",
        "tabela_exibicao = pd.concat([tabela_unidade_iii.head(), tabela_unidade_iii.tail()])\n",
        "display(tabela_exibicao)\n",
        "tabela_unidade_iii.info()"
      ],
      "metadata": {
        "id": "aYyBtZe9j3TN"
      },
      "execution_count": null,
      "outputs": []
    },
    {
      "cell_type": "code",
      "source": [
        "# GERANDO UMA TABELA COM OS DADOS ACOPLADOS POR QUANTIDADE DE FORMULÁRIOS RESPONDIDOS\n",
        "tabela_unidade_iii_acoplada = tabela_unidade_iii.groupby(\"Formulários Respondidos\").agg(\n",
        "    Quantidade_Alunos=(\"Notas\", \"count\"),\n",
        "    Media_Notas=(\"Notas\", \"mean\")\n",
        ").reset_index()\n",
        "tabela_unidade_iii_acoplada.columns = [\"Formulários Respondidos\", \"Quantidade de Alunos\", \"Média das Notas\"]\n",
        "display(tabela_unidade_iii_acoplada)"
      ],
      "metadata": {
        "id": "elVvLlm7j3TN"
      },
      "execution_count": null,
      "outputs": []
    },
    {
      "cell_type": "code",
      "source": [
        "# GRÁFICO DE COLUNAS COM OS DADOS ACOPLADOS\n",
        "tabela_unidade_iii_acoplada.plot(kind=\"bar\", x=\"Formulários Respondidos\", y=\"Média das Notas\", title=\"Média das notas por quantidade de formulários respondidos\", color=\"skyblue\", rot=0)\n",
        "plt.ylabel(\"Média das Notas\")\n",
        "\n",
        "for i, valor in enumerate(tabela_unidade_iii_acoplada[\"Média das Notas\"]):\n",
        "    plt.text(i, valor + 0.05, f\"{valor:.2f}\", ha=\"center\", va=\"bottom\", fontsize=10, color=\"black\")\n",
        "plt.tight_layout()\n",
        "plt.show()"
      ],
      "metadata": {
        "id": "vH7cZKWyj3TO"
      },
      "execution_count": null,
      "outputs": []
    },
    {
      "cell_type": "code",
      "source": [
        "# GRÁFICO DE DISPERSÃO\n",
        "tabela_unidade_iii.plot.scatter(x=\"Formulários Respondidos\", y=\"Notas\", title=\"Dispersão entre Quantidade de Formulários Respondidos e Nota\", color=\"blue\")\n",
        "plt.grid(True)\n",
        "plt.show()"
      ],
      "metadata": {
        "id": "GphRKydWj3TO"
      },
      "execution_count": null,
      "outputs": []
    },
    {
      "cell_type": "code",
      "source": [
        "# CÁLCULO DO R^2\n",
        "\n",
        "X = tabela_unidade_iii[\"Formulários Respondidos\"]\n",
        "Y = tabela_unidade_iii[\"Notas\"]\n",
        "media_notas = np.mean(Y)\n",
        "coeficiente = np.polyfit(X, Y, 1)\n",
        "coeficiente_angular, coeficiente_linear = coeficiente[0], coeficiente[1]\n",
        "Y_previsto = coeficiente_angular * X + coeficiente_linear\n",
        "\n",
        "sq_total = np.sum((Y - media_notas) ** 2)\n",
        "sq_residual = np.sum((Y - Y_previsto) ** 2)\n",
        "r_quadrado = 1 - (sq_residual / sq_total)\n",
        "\n",
        "plt.scatter(X, Y, color=\"blue\", label=\"Dados observados\")\n",
        "plt.plot(X, Y_previsto, color=\"purple\", label=\"Linha de regressão\")\n",
        "plt.title(\"Gráfico de Dispersão com R²\")\n",
        "plt.xlabel(\"Formulários Respondidos\")\n",
        "plt.ylabel(\"Notas\")\n",
        "\n",
        "plt.text(1, 4.5, f\"$R^2 = {r_quadrado:.4f}$\", fontsize=12, color=\"black\")\n",
        "plt.legend()\n",
        "plt.show()"
      ],
      "metadata": {
        "id": "unDQhaIKj3TO"
      },
      "execution_count": null,
      "outputs": []
    },
    {
      "cell_type": "markdown",
      "source": [
        "### SEGREGAÇÃO DOS DADOS POR PARTICIPAÇÃO NA AULA DE MATEMÁTICA BÁSICA"
      ],
      "metadata": {
        "id": "2jLxCH4Qj3TP"
      }
    },
    {
      "cell_type": "code",
      "source": [
        "# SEGREGAÇÃO DOS DADOS - NÃO PARTICIPOU DA AULA DE MATEMÁTICA BÁSICA\n",
        "\n",
        "tabela_unidade_iii_aula_falso = tabela_unidade_iii.loc[tabela_unidade_iii[\"Aula Assistida\"] == 0].copy()\n",
        "display(tabela_unidade_iii_aula_falso)\n",
        "tabela_unidade_iii_aula_falso.info()"
      ],
      "metadata": {
        "id": "nG5stFBuj3TP"
      },
      "execution_count": null,
      "outputs": []
    },
    {
      "cell_type": "code",
      "source": [
        "# GERANDO UMA TABELA COM OS DADOS ACOPLADOS POR QUANTIDADE DE FORMULÁRIOS RESPONDIDOS\n",
        "\n",
        "tabela_unidade_iii_falso_acoplada = tabela_unidade_iii_aula_falso.groupby(\"Formulários Respondidos\").agg(\n",
        "    Quantidade_Alunos=(\"Notas\", \"count\"),\n",
        "    Media_Notas=(\"Notas\", \"mean\")\n",
        ").reset_index()\n",
        "tabela_unidade_iii_falso_acoplada.columns = [\"Formulários Respondidos\", \"Quantidade de Alunos\", \"Média das Notas\"]\n",
        "display(tabela_unidade_iii_falso_acoplada)"
      ],
      "metadata": {
        "id": "JMN70-Iqj3TP"
      },
      "execution_count": null,
      "outputs": []
    },
    {
      "cell_type": "code",
      "source": [
        "# SEGREGAÇÃO DOS DADOS - PARTICIPOU DA AULA DE MATEMÁTICA BÁSICA\n",
        "\n",
        "tabela_unidade_iii_aula_verdadeiro = tabela_unidade_iii.loc[tabela_unidade_iii[\"Aula Assistida\"] == 1].copy()\n",
        "display(tabela_unidade_iii_aula_verdadeiro)\n",
        "tabela_unidade_iii_aula_verdadeiro.info()"
      ],
      "metadata": {
        "id": "t0UcsS-Gj3TP"
      },
      "execution_count": null,
      "outputs": []
    },
    {
      "cell_type": "markdown",
      "source": [
        "##SEMESTRE COMPLETO"
      ],
      "metadata": {
        "id": "7yutMfyv162t"
      }
    },
    {
      "cell_type": "markdown",
      "source": [
        "### DADOS COMPLETOS"
      ],
      "metadata": {
        "id": "ql1XPXXd2pFC"
      }
    },
    {
      "cell_type": "code",
      "source": [
        "# CONSTRUINDO UMA NOVA TABELA COM OS DADOS NECESSÁRIOS\n",
        "tabela_geral = tabela_alunos.iloc[0:quant_dados, [0, 14, 15, 19]]\n",
        "tabela_geral.drop(index=[0], inplace=True)\n",
        "tabela_geral.columns = [\"Discente\", \"Total de Formulários Respondidos\", \"Total de Aulas Assistidas\", \"Nota Final\"]\n",
        "tabela_exibicao = pd.concat([tabela_geral.head(), tabela_geral.tail()])\n",
        "display(tabela_exibicao)\n",
        "tabela_geral.info()"
      ],
      "metadata": {
        "id": "84M8kt9f2W9s"
      },
      "execution_count": null,
      "outputs": []
    },
    {
      "cell_type": "code",
      "source": [
        "# REALIZANDO O TRATAMENTO DOS DADOS\n",
        "tabela_geral.dropna(subset=\"Nota Final\", inplace=True)\n",
        "tabela_geral['Total de Formulários Respondidos'] = tabela_geral['Total de Formulários Respondidos'].astype(int)\n",
        "tabela_geral['Total de Aulas Assistidas'] = tabela_geral['Total de Aulas Assistidas'].astype(int)\n",
        "tabela_geral['Nota Final'] = tabela_geral['Nota Final'].str.replace(',', '.')\n",
        "tabela_geral['Nota Final'] = tabela_geral['Nota Final'].astype(float)\n",
        "tabela_exibicao = pd.concat([tabela_geral.head(), tabela_geral.tail()])\n",
        "display(tabela_exibicao)\n",
        "tabela_geral.info()"
      ],
      "metadata": {
        "id": "9unGdru-5wWs"
      },
      "execution_count": null,
      "outputs": []
    },
    {
      "cell_type": "code",
      "source": [
        "# GERANDO UMA TABELA COM OS DADOS ACOPLADOS POR QUANTIDADE DE FORMULÁRIOS RESPONDIDOS\n",
        "tabela_geral_acoplada = tabela_geral.groupby(\"Total de Formulários Respondidos\").agg(\n",
        "    Quantidade_Alunos=(\"Nota Final\", \"count\"),\n",
        "    Media_Notas=(\"Nota Final\", \"mean\")\n",
        ").reset_index()\n",
        "tabela_geral_acoplada.columns = [\"Total de Formulários Respondidos\", \"Quantidade de Alunos\", \"Média das Notas Finais\"]\n",
        "display(tabela_geral_acoplada)"
      ],
      "metadata": {
        "id": "wYr12OTs7Gc1"
      },
      "execution_count": null,
      "outputs": []
    },
    {
      "cell_type": "code",
      "source": [
        "# GRÁFICO DE COLUNAS COM OS DADOS ACOPLADOS\n",
        "tabela_geral_acoplada.plot(kind=\"bar\", x=\"Total de Formulários Respondidos\", y=\"Média das Notas Finais\", color=\"skyblue\", rot=0)\n",
        "plt.ylabel(\"Média das Notas Finais\")\n",
        "\n",
        "for i, valor in enumerate(tabela_geral_acoplada[\"Média das Notas Finais\"]):\n",
        "    plt.text(i, valor + 0.05, f\"{valor:.2f}\", ha=\"center\", va=\"bottom\", fontsize=10, color=\"black\")\n",
        "plt.tight_layout()\n",
        "plt.show()"
      ],
      "metadata": {
        "id": "b--OsNeD7mHk"
      },
      "execution_count": null,
      "outputs": []
    },
    {
      "cell_type": "code",
      "source": [
        "# GRÁFICO DE DISPERSÃO\n",
        "tabela_geral.plot.scatter(x=\"Total de Formulários Respondidos\", y=\"Nota Final\", title=\"Dispersão entre Quantidade de Formulários Respondidos e Nota Final\", color=\"blue\")\n",
        "plt.grid(True)\n",
        "plt.show()"
      ],
      "metadata": {
        "id": "JlEdvEOv8IXM"
      },
      "execution_count": null,
      "outputs": []
    },
    {
      "cell_type": "code",
      "source": [
        "# CÁLCULO DO R^2\n",
        "X = tabela_geral[\"Total de Formulários Respondidos\"]\n",
        "Y = tabela_geral[\"Nota Final\"]\n",
        "media_notas = np.mean(Y)\n",
        "coeficiente = np.polyfit(X, Y, 1)\n",
        "coeficiente_angular, coeficiente_linear = coeficiente[0], coeficiente[1]\n",
        "Y_previsto = coeficiente_angular * X + coeficiente_linear\n",
        "\n",
        "sq_total = np.sum((Y - media_notas) ** 2)\n",
        "sq_residual = np.sum((Y - Y_previsto) ** 2)\n",
        "r_quadrado = 1 - (sq_residual / sq_total)\n",
        "\n",
        "plt.scatter(X, Y, color=\"blue\", label=\"Dados observados\")\n",
        "plt.plot(X, Y_previsto, color=\"purple\", label=\"Linha de regressão\")\n",
        "plt.title(\"Gráfico de Dispersão com R²\")\n",
        "plt.xlabel(\"Total de Formulários Respondidos\")\n",
        "plt.ylabel(\"Nota Final\")\n",
        "\n",
        "plt.text(1, 4.5, f\"$R^2 = {r_quadrado:.4f}$\", fontsize=12, color=\"black\")\n",
        "plt.legend()\n",
        "plt.show()"
      ],
      "metadata": {
        "id": "4GaYa9tw8bnk"
      },
      "execution_count": null,
      "outputs": []
    },
    {
      "cell_type": "markdown",
      "source": [
        "### SEGREGAÇÃO DOS DADOS POR PARTICIPAÇÃO NA AULA DE MATEMÁTICA BÁSICA"
      ],
      "metadata": {
        "id": "7S0hQOZj-u3k"
      }
    },
    {
      "cell_type": "code",
      "source": [
        "tabela_geral_aula_0 = tabela_geral.loc[tabela_geral[\"Total de Aulas Assistidas\"] == 0].copy()\n",
        "display(tabela_geral_aula_0)\n",
        "tabela_geral_aula_0.info()\n",
        "tabela_geral_aula_1 = tabela_geral.loc[tabela_geral[\"Total de Aulas Assistidas\"] == 1].copy()\n",
        "display(tabela_geral_aula_1)\n",
        "tabela_geral_aula_1.info()\n",
        "tabela_geral_aula_2 = tabela_geral.loc[tabela_geral[\"Total de Aulas Assistidas\"] == 2].copy()\n",
        "display(tabela_geral_aula_2)\n",
        "tabela_geral_aula_2.info()"
      ],
      "metadata": {
        "id": "kkboVMO1-140"
      },
      "execution_count": null,
      "outputs": []
    },
    {
      "cell_type": "code",
      "source": [
        "plt.scatter(tabela_geral_aula_0[\"Total de Formulários Respondidos\"], tabela_geral_aula_0[\"Nota Final\"], color=\"blue\", label=\"Não assistiu as aulas de matemática básica\")\n",
        "plt.scatter(tabela_geral_aula_1[\"Total de Formulários Respondidos\"], tabela_geral_aula_1[\"Nota Final\"], color=\"orange\", label=\"Assistiu uma aula de matemática básica\")\n",
        "plt.scatter(tabela_geral_aula_2[\"Total de Formulários Respondidos\"], tabela_geral_aula_2[\"Nota Final\"], color=\"green\", label=\"Assistiu duas aulas de matemática básica\")\n",
        "plt.title(\"Comparação de Grupos - Gráfico de Dispersão\")\n",
        "plt.xlabel(\"Formulários Respondidos\")\n",
        "plt.ylabel(\"Notas Finais\")\n",
        "plt.legend()\n",
        "plt.grid(True)\n",
        "\n",
        "plt.show()"
      ],
      "metadata": {
        "id": "_i1k7BKiBCX0"
      },
      "execution_count": null,
      "outputs": []
    },
    {
      "cell_type": "markdown",
      "source": [
        "###APROVADOS E REPROVADOS"
      ],
      "metadata": {
        "id": "lWZiLSd8Fo9d"
      }
    },
    {
      "cell_type": "code",
      "source": [
        "# CONSTRUINDO UMA NOVA TABELA COM OS DADOS NECESSÁRIOS\n",
        "tabela_aprovados = tabela_alunos.iloc[0:quant_dados, [0, 17, 20, 21, 22]]\n",
        "tabela_aprovados.drop(index=[0], inplace=True)\n",
        "tabela_aprovados.columns = [\"Discente\", \"Porcentagem de Participação\", \"Aprovado\", \"Reprovado\", \"Reprovado Falta\"]\n",
        "tabela_exibicao = pd.concat([tabela_aprovados.head(), tabela_aprovados.tail()])\n",
        "display(tabela_exibicao)\n",
        "tabela_aprovados.info()"
      ],
      "metadata": {
        "id": "ZpBDo7nNFsF9"
      },
      "execution_count": null,
      "outputs": []
    },
    {
      "cell_type": "code",
      "source": [
        "# REALIZANDO O TRATAMENTO DOS DADOS\n",
        "tabela_aprovados.dropna(subset=\"Porcentagem de Participação\", inplace=True)\n",
        "tabela_aprovados['Reprovado Falta'] = tabela_aprovados['Reprovado Falta'].astype(int)\n",
        "tabela_aprovados = tabela_aprovados.drop(tabela_aprovados[tabela_aprovados[\"Reprovado Falta\"] == 1].index)\n",
        "tabela_aprovados['Aprovado'] = tabela_aprovados['Aprovado'].astype(int)\n",
        "tabela_aprovados['Reprovado'] = tabela_aprovados['Reprovado'].astype(int)\n",
        "tabela_aprovados['Porcentagem de Participação'] = tabela_aprovados['Porcentagem de Participação'].str.replace(',', '.')\n",
        "tabela_aprovados['Porcentagem de Participação'] = tabela_aprovados['Porcentagem de Participação'].astype(float)\n",
        "tabela_aprovados = tabela_aprovados.drop(\"Reprovado Falta\", axis=1)\n",
        "tabela_exibicao = pd.concat([tabela_aprovados.head(), tabela_aprovados.tail()])\n",
        "display(tabela_exibicao)\n",
        "tabela_aprovados.info()"
      ],
      "metadata": {
        "id": "7MkIca095qnd"
      },
      "execution_count": null,
      "outputs": []
    },
    {
      "cell_type": "code",
      "source": [
        "#SEGREGAÇÃO DOS DADOS DOS APROVADOS\n",
        "tabela_aprovado_nota = tabela_aprovados.loc[tabela_aprovados[\"Aprovado\"] == 1].copy()\n",
        "display(tabela_aprovado_nota.head())\n",
        "tabela_aprovado_nota.info()"
      ],
      "metadata": {
        "id": "kQU_GtT3BCm2"
      },
      "execution_count": null,
      "outputs": []
    },
    {
      "cell_type": "code",
      "source": [
        "intervalos = [0, 25, 50, 75, 100]\n",
        "rotulos = [\"0% - 25%\", \"25% - 50%\", \"50% - 75%\", \"75% - 100%\"]  #LIMITE INFERIOR EXCLUSIVO E SUPERIOR INCLUSIVO\n",
        "\n",
        "tabela_aprovado_nota[\"Faixa de Porcentagem\"] = pd.cut(tabela_aprovado_nota[\"Porcentagem de Participação\"], bins=intervalos, labels=rotulos, include_lowest=True)\n",
        "\n",
        "tabela_porcentagem = tabela_aprovado_nota.groupby(\"Faixa de Porcentagem\", observed=True).agg(\n",
        "    Quantidade_Alunos=(\"Porcentagem de Participação\", \"count\")\n",
        ").reset_index()\n",
        "\n",
        "# Exibindo a tabela resultante\n",
        "display(tabela_porcentagem)"
      ],
      "metadata": {
        "id": "bsGgrrIsE5HW"
      },
      "execution_count": null,
      "outputs": []
    },
    {
      "cell_type": "code",
      "source": [
        "labels = tabela_porcentagem[\"Faixa de Porcentagem\"]\n",
        "sizes = tabela_porcentagem[\"Quantidade_Alunos\"]\n",
        "\n",
        "plt.figure(figsize=(8, 8))\n",
        "plt.pie(sizes, autopct=\"%1.1f%%\", startangle=90, colors=plt.cm.Set3.colors)\n",
        "plt.legend(labels, title=\"Faixa de Porcentagem\", loc=\"lower right\", fontsize=10)\n",
        "plt.title(\"Distribuição de alunos aprovados por porcentagem de participação nas atividades\")\n",
        "plt.show()"
      ],
      "metadata": {
        "id": "kYmB3GvyJIAt"
      },
      "execution_count": null,
      "outputs": []
    },
    {
      "cell_type": "code",
      "source": [
        "#SEGREGAÇÃO DOS DADOS DOS REPROVADOS\n",
        "tabela_reprovado_nota = tabela_aprovados.loc[tabela_aprovados[\"Reprovado\"] == 1].copy()\n",
        "display(tabela_reprovado_nota.head())\n",
        "tabela_reprovado_nota.info()"
      ],
      "metadata": {
        "id": "ihnaeh2APjYN"
      },
      "execution_count": null,
      "outputs": []
    },
    {
      "cell_type": "code",
      "source": [
        "tabela_reprovado_nota[\"Faixa de Porcentagem\"] = pd.cut(tabela_reprovado_nota[\"Porcentagem de Participação\"], bins=intervalos, labels=rotulos, include_lowest=True)\n",
        "\n",
        "tabela_porcentagem = tabela_reprovado_nota.groupby(\"Faixa de Porcentagem\", observed=True).agg(\n",
        "    Quantidade_Alunos=(\"Porcentagem de Participação\", \"count\")\n",
        ").reset_index()\n",
        "\n",
        "# Exibindo a tabela resultante\n",
        "display(tabela_porcentagem)"
      ],
      "metadata": {
        "id": "1HGs0se5QFPM"
      },
      "execution_count": null,
      "outputs": []
    },
    {
      "cell_type": "code",
      "source": [
        "plt.figure(figsize=(8, 8))\n",
        "plt.pie(tabela_porcentagem[\"Quantidade_Alunos\"], autopct=\"%1.1f%%\", startangle=90, colors=plt.cm.Set3.colors)\n",
        "plt.legend(tabela_porcentagem[\"Faixa de Porcentagem\"] , title=\"Faixa de Porcentagem\", loc=\"lower right\", fontsize=10)\n",
        "plt.title(\"Distribuição de alunos reprovados por porcentagem de participação nas atividades\")\n",
        "plt.show()"
      ],
      "metadata": {
        "id": "RPIj4mztQlk7"
      },
      "execution_count": null,
      "outputs": []
    }
  ]
}